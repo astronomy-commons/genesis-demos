{
 "cells": [
  {
   "cell_type": "code",
   "execution_count": 1,
   "metadata": {},
   "outputs": [],
   "source": [
    "from dirac import DataBase"
   ]
  },
  {
   "cell_type": "code",
   "execution_count": 2,
   "metadata": {},
   "outputs": [
    {
     "data": {
      "text/html": [
       "<p><strong>Dashboard: <a href=http://hub.dirac.institute/user/ctslater/proxy/4040/jobs/>http://hub.dirac.institute/user/ctslater/proxy/4040/jobs/</a></strong></p> <p><strong>Status:</strong> Creating SparkSession </p> <p>Setting config: spark.executor.instances=2<p> <p>Setting config: spark.kubernetes.executor.podNamePrefix=pyspark-1627675066-ctslater-spark<p> <p>Setting config: spark.ui.port=4040<p> <p><strong>Status:</strong> Polling Kubernetes cluster</p> <p>Updated at: 2021-07-30 19:57:56.665058</p> <table> <tr> <th>Status</th> <th>Pod Name</th> <th>Message</th> </tr> <tr style='overflow-x: scroll;'> <td style='color: green;'><strong>Running</strong></td> <td>pyspark-1627675066-ctslater-spark-exec-1</td> <td>Started container spark-kubernetes-executor</td> </tr> <tr style='overflow-x: scroll;'> <td style='color: green;'><strong>Running</strong></td> <td>pyspark-1627675066-ctslater-spark-exec-2</td> <td>Started container spark-kubernetes-executor</td> </tr> </table> <p><strong>Status:</strong> Spark cluster created!</p> <p><strong>Status:</strong> Loading AXS catalogs</p>"
      ],
      "text/plain": [
       "<IPython.core.display.HTML object>"
      ]
     },
     "metadata": {},
     "output_type": "display_data"
    }
   ],
   "source": [
    "db = DataBase()"
   ]
  },
  {
   "cell_type": "code",
   "execution_count": 3,
   "metadata": {},
   "outputs": [
    {
     "data": {
      "text/plain": [
       "['gaiadr2',\n",
       " 'sdss',\n",
       " 'allwise',\n",
       " 'ps1',\n",
       " 'gaia_source_edr3',\n",
       " 'gaia_edr3_distances',\n",
       " 'ztf_aug2020_combined',\n",
       " 'ztf_dr3_public']"
      ]
     },
     "execution_count": 3,
     "metadata": {},
     "output_type": "execute_result"
    }
   ],
   "source": [
    "catalogs = db.get_catalogs()\n",
    "catalogs.list_table_names()"
   ]
  },
  {
   "cell_type": "code",
   "execution_count": null,
   "metadata": {},
   "outputs": [],
   "source": [
    "ztf = catalogs.load(\"ztf_dr3_public\")"
   ]
  }
 ],
 "metadata": {
  "kernelspec": {
   "display_name": "Python 3",
   "language": "python",
   "name": "python3"
  },
  "language_info": {
   "codemirror_mode": {
    "name": "ipython",
    "version": 3
   },
   "file_extension": ".py",
   "mimetype": "text/x-python",
   "name": "python",
   "nbconvert_exporter": "python",
   "pygments_lexer": "ipython3",
   "version": "3.8.6"
  }
 },
 "nbformat": 4,
 "nbformat_minor": 4
}
